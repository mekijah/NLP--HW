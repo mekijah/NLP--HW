{
 "cells": [
  {
   "cell_type": "markdown",
   "metadata": {},
   "source": [
    "# News Headlines Sentiment\n",
    "\n",
    "Use the news api to pull the latest news articles for bitcoin and ethereum and create a DataFrame of sentiment scores for each coin. \n",
    "\n",
    "Use descriptive statistics to answer the following questions:\n",
    "1. Which coin had the highest mean positive score?\n",
    "2. Which coin had the highest negative score?\n",
    "3. Which coin had the highest positive score?"
   ]
  },
  {
   "cell_type": "code",
   "execution_count": 17,
   "metadata": {},
   "outputs": [
    {
     "data": {
      "text/plain": [
       "True"
      ]
     },
     "execution_count": 17,
     "metadata": {},
     "output_type": "execute_result"
    }
   ],
   "source": [
    "# Initial imports\n",
    "import os\n",
    "import pandas as pd\n",
    "from dotenv import load_dotenv\n",
    "from nltk.sentiment.vader import SentimentIntensityAnalyzer\n",
    "analyzer = SentimentIntensityAnalyzer()\n",
    "from pathlib import Path\n",
    "load_dotenv()\n",
    "# %matplotlib inline"
   ]
  },
  {
   "cell_type": "code",
   "execution_count": 18,
   "metadata": {},
   "outputs": [],
   "source": [
    "# Read your api key environment variable\n",
    "news_api = \"2513143cbaaf40a3ac124571b6c48157\"\n",
    "# type(news_api)\n"
   ]
  },
  {
   "cell_type": "code",
   "execution_count": 19,
   "metadata": {},
   "outputs": [],
   "source": [
    "# Create a newsapi client\n",
    "from newsapi import NewsApiClient\n",
    "newsapi = NewsApiClient(api_key=news_api)"
   ]
  },
  {
   "cell_type": "code",
   "execution_count": 20,
   "metadata": {},
   "outputs": [
    {
     "name": "stdout",
     "output_type": "stream",
     "text": [
      "Total articles about Bitcoin: 4726\n"
     ]
    },
    {
     "data": {
      "text/plain": [
       "{'source': {'id': 'wired', 'name': 'Wired'},\n",
       " 'author': 'Timothy B. Lee, Ars Technica',\n",
       " 'title': 'An Engineer Gets 9 Years for Stealing $10M From Microsoft',\n",
       " 'description': 'The defendant tried—and failed—to use bitcoin to cover his tracks.',\n",
       " 'url': 'https://www.wired.com/story/an-engineer-gets-9-years-for-stealing-dollar10m-from-microsoft/',\n",
       " 'urlToImage': 'https://media.wired.com/photos/5fac6afb446b4639b3d5b8d8/191:100/w_1280,c_limit/Security-Microsoft-1229426260.jpg',\n",
       " 'publishedAt': '2020-11-12T14:00:00Z',\n",
       " 'content': \"A former Microsoft software engineer from Ukraine has been sentenced to nine years in prison for stealing more than $10 million in store credit from Microsoft's online store. From 2016 to 2018, Volod… [+3307 chars]\"}"
      ]
     },
     "execution_count": 20,
     "metadata": {},
     "output_type": "execute_result"
    }
   ],
   "source": [
    "# Fetch the Bitcoin news articles\n",
    "bitcoin_headlines = newsapi.get_everything(\n",
    "    q=\"bitcoin\", language=\"en\",page_size=100, sort_by=\"relevancy\"\n",
    ")\n",
    "\n",
    "# Print total articles\n",
    "print(f\"Total articles about Bitcoin: {bitcoin_headlines['totalResults']}\")\n",
    "\n",
    "# Show sample article\n",
    "bitcoin_headlines[\"articles\"][0]"
   ]
  },
  {
   "cell_type": "code",
   "execution_count": 21,
   "metadata": {},
   "outputs": [
    {
     "data": {
      "text/html": [
       "<div>\n",
       "<style scoped>\n",
       "    .dataframe tbody tr th:only-of-type {\n",
       "        vertical-align: middle;\n",
       "    }\n",
       "\n",
       "    .dataframe tbody tr th {\n",
       "        vertical-align: top;\n",
       "    }\n",
       "\n",
       "    .dataframe thead th {\n",
       "        text-align: right;\n",
       "    }\n",
       "</style>\n",
       "<table border=\"1\" class=\"dataframe\">\n",
       "  <thead>\n",
       "    <tr style=\"text-align: right;\">\n",
       "      <th></th>\n",
       "      <th>source</th>\n",
       "      <th>author</th>\n",
       "      <th>title</th>\n",
       "      <th>description</th>\n",
       "      <th>url</th>\n",
       "      <th>urlToImage</th>\n",
       "      <th>publishedAt</th>\n",
       "      <th>content</th>\n",
       "    </tr>\n",
       "  </thead>\n",
       "  <tbody>\n",
       "    <tr>\n",
       "      <th>0</th>\n",
       "      <td>{'id': 'wired', 'name': 'Wired'}</td>\n",
       "      <td>Timothy B. Lee, Ars Technica</td>\n",
       "      <td>An Engineer Gets 9 Years for Stealing $10M Fro...</td>\n",
       "      <td>The defendant tried—and failed—to use bitcoin ...</td>\n",
       "      <td>https://www.wired.com/story/an-engineer-gets-9...</td>\n",
       "      <td>https://media.wired.com/photos/5fac6afb446b463...</td>\n",
       "      <td>2020-11-12T14:00:00Z</td>\n",
       "      <td>A former Microsoft software engineer from Ukra...</td>\n",
       "    </tr>\n",
       "    <tr>\n",
       "      <th>1</th>\n",
       "      <td>{'id': None, 'name': 'Lifehacker.com'}</td>\n",
       "      <td>Mike Winters on Two Cents, shared by Mike Wint...</td>\n",
       "      <td>Is the New Visa Bitcoin Rewards Card Worth It?</td>\n",
       "      <td>Visa has partnered with cryptocurrency startup...</td>\n",
       "      <td>https://twocents.lifehacker.com/is-the-new-vis...</td>\n",
       "      <td>https://i.kinja-img.com/gawker-media/image/upl...</td>\n",
       "      <td>2020-12-03T22:00:00Z</td>\n",
       "      <td>Visa has partnered with cryptocurrency startup...</td>\n",
       "    </tr>\n",
       "    <tr>\n",
       "      <th>2</th>\n",
       "      <td>{'id': 'engadget', 'name': 'Engadget'}</td>\n",
       "      <td>Karissa Bell</td>\n",
       "      <td>PayPal now lets all US users buy, sell and hol...</td>\n",
       "      <td>PayPal is bringing its newly-announced support...</td>\n",
       "      <td>https://www.engadget.com/paypal-opens-cryptocu...</td>\n",
       "      <td>https://o.aolcdn.com/images/dims?resize=1200%2...</td>\n",
       "      <td>2020-11-12T21:05:41Z</td>\n",
       "      <td>PayPal is bringing its newly-announced support...</td>\n",
       "    </tr>\n",
       "    <tr>\n",
       "      <th>3</th>\n",
       "      <td>{'id': 'mashable', 'name': 'Mashable'}</td>\n",
       "      <td>Stan Schroeder</td>\n",
       "      <td>Bitcoin is flirting with $20,000 again. How hi...</td>\n",
       "      <td>In November 2017, after an absolutely massive,...</td>\n",
       "      <td>https://mashable.com/article/bitcoin-20000/</td>\n",
       "      <td>https://mondrian.mashable.com/2020%252F11%252F...</td>\n",
       "      <td>2020-11-20T20:02:17Z</td>\n",
       "      <td>In November 2017, after an absolutely massive,...</td>\n",
       "    </tr>\n",
       "    <tr>\n",
       "      <th>4</th>\n",
       "      <td>{'id': 'engadget', 'name': 'Engadget'}</td>\n",
       "      <td>Jon Fingas</td>\n",
       "      <td>You can now spend China's digital currency at ...</td>\n",
       "      <td>China’s official digital currency is now usabl...</td>\n",
       "      <td>https://www.engadget.com/jd-com-supports-china...</td>\n",
       "      <td>https://o.aolcdn.com/images/dims?resize=1200%2...</td>\n",
       "      <td>2020-12-06T22:37:18Z</td>\n",
       "      <td>Unlike ‘conventional’ cryptocurrencies, a cent...</td>\n",
       "    </tr>\n",
       "  </tbody>\n",
       "</table>\n",
       "</div>"
      ],
      "text/plain": [
       "                                   source  \\\n",
       "0        {'id': 'wired', 'name': 'Wired'}   \n",
       "1  {'id': None, 'name': 'Lifehacker.com'}   \n",
       "2  {'id': 'engadget', 'name': 'Engadget'}   \n",
       "3  {'id': 'mashable', 'name': 'Mashable'}   \n",
       "4  {'id': 'engadget', 'name': 'Engadget'}   \n",
       "\n",
       "                                              author  \\\n",
       "0                       Timothy B. Lee, Ars Technica   \n",
       "1  Mike Winters on Two Cents, shared by Mike Wint...   \n",
       "2                                       Karissa Bell   \n",
       "3                                     Stan Schroeder   \n",
       "4                                         Jon Fingas   \n",
       "\n",
       "                                               title  \\\n",
       "0  An Engineer Gets 9 Years for Stealing $10M Fro...   \n",
       "1     Is the New Visa Bitcoin Rewards Card Worth It?   \n",
       "2  PayPal now lets all US users buy, sell and hol...   \n",
       "3  Bitcoin is flirting with $20,000 again. How hi...   \n",
       "4  You can now spend China's digital currency at ...   \n",
       "\n",
       "                                         description  \\\n",
       "0  The defendant tried—and failed—to use bitcoin ...   \n",
       "1  Visa has partnered with cryptocurrency startup...   \n",
       "2  PayPal is bringing its newly-announced support...   \n",
       "3  In November 2017, after an absolutely massive,...   \n",
       "4  China’s official digital currency is now usabl...   \n",
       "\n",
       "                                                 url  \\\n",
       "0  https://www.wired.com/story/an-engineer-gets-9...   \n",
       "1  https://twocents.lifehacker.com/is-the-new-vis...   \n",
       "2  https://www.engadget.com/paypal-opens-cryptocu...   \n",
       "3        https://mashable.com/article/bitcoin-20000/   \n",
       "4  https://www.engadget.com/jd-com-supports-china...   \n",
       "\n",
       "                                          urlToImage           publishedAt  \\\n",
       "0  https://media.wired.com/photos/5fac6afb446b463...  2020-11-12T14:00:00Z   \n",
       "1  https://i.kinja-img.com/gawker-media/image/upl...  2020-12-03T22:00:00Z   \n",
       "2  https://o.aolcdn.com/images/dims?resize=1200%2...  2020-11-12T21:05:41Z   \n",
       "3  https://mondrian.mashable.com/2020%252F11%252F...  2020-11-20T20:02:17Z   \n",
       "4  https://o.aolcdn.com/images/dims?resize=1200%2...  2020-12-06T22:37:18Z   \n",
       "\n",
       "                                             content  \n",
       "0  A former Microsoft software engineer from Ukra...  \n",
       "1  Visa has partnered with cryptocurrency startup...  \n",
       "2  PayPal is bringing its newly-announced support...  \n",
       "3  In November 2017, after an absolutely massive,...  \n",
       "4  Unlike ‘conventional’ cryptocurrencies, a cent...  "
      ]
     },
     "execution_count": 21,
     "metadata": {},
     "output_type": "execute_result"
    }
   ],
   "source": [
    "bitcoin_df = pd.DataFrame.from_dict(bitcoin_headlines['articles'])\n",
    "bitcoin_df.head()"
   ]
  },
  {
   "cell_type": "code",
   "execution_count": 23,
   "metadata": {},
   "outputs": [],
   "source": [
    "file_path = Path(\"../Data/\")\n",
    "bitcoin_df.to_csv(file_path, index=False, encoding='utf-8-sig')"
   ]
  },
  {
   "cell_type": "code",
   "execution_count": 24,
   "metadata": {},
   "outputs": [],
   "source": [
    "file_path = Path(\"../Data/\")\n",
    "bitcoin_df.to_pickle(file_path)"
   ]
  },
  {
   "cell_type": "code",
   "execution_count": 25,
   "metadata": {},
   "outputs": [
    {
     "name": "stdout",
     "output_type": "stream",
     "text": [
      "Total articles about Ethereum: 1279\n"
     ]
    },
    {
     "data": {
      "text/plain": [
       "{'source': {'id': 'engadget', 'name': 'Engadget'},\n",
       " 'author': 'Karissa Bell',\n",
       " 'title': 'PayPal now lets all US users buy, sell and hold cryptocurrency',\n",
       " 'description': 'PayPal is bringing its newly-announced support for cryptocurrency to all US accounts. It first announced plans to open cryptocurrency trading to US-based users in October, but until now it was only available to a small subset of PayPal account holders. That’s…',\n",
       " 'url': 'https://www.engadget.com/paypal-opens-cryptocurrency-all-us-accounts-210541778.html',\n",
       " 'urlToImage': 'https://o.aolcdn.com/images/dims?resize=1200%2C630&crop=1200%2C630%2C0%2C0&quality=95&image_uri=https%3A%2F%2Fs.yimg.com%2Fos%2Fcreatr-uploaded-images%2F2020-11%2F4e1af080-2528-11eb-bbdf-193e571d142a&client=amp-blogside-v2&signature=22ad23dde6ee3e667a8067a4c39e1962659cec92',\n",
       " 'publishedAt': '2020-11-12T21:05:41Z',\n",
       " 'content': 'PayPal is bringing its newly-announced support for cryptocurrency to all US accounts. It first announced plans to open cryptocurrency trading to US-based users in October, but until now it was only a… [+589 chars]'}"
      ]
     },
     "execution_count": 25,
     "metadata": {},
     "output_type": "execute_result"
    }
   ],
   "source": [
    "# Fetch the Ethereum news articles\n",
    "ethereum_headlines = newsapi.get_everything(\n",
    "    q=\"ethereum and Ethereum\", language=\"en\",page_size=100, sort_by=\"relevancy\"\n",
    ")\n",
    "\n",
    "# Print total articles\n",
    "print(f\"Total articles about Ethereum: {ethereum_headlines['totalResults']}\")\n",
    "\n",
    "# Show sample article\n",
    "ethereum_headlines[\"articles\"][0]"
   ]
  },
  {
   "cell_type": "code",
   "execution_count": 26,
   "metadata": {},
   "outputs": [
    {
     "data": {
      "text/html": [
       "<div>\n",
       "<style scoped>\n",
       "    .dataframe tbody tr th:only-of-type {\n",
       "        vertical-align: middle;\n",
       "    }\n",
       "\n",
       "    .dataframe tbody tr th {\n",
       "        vertical-align: top;\n",
       "    }\n",
       "\n",
       "    .dataframe thead th {\n",
       "        text-align: right;\n",
       "    }\n",
       "</style>\n",
       "<table border=\"1\" class=\"dataframe\">\n",
       "  <thead>\n",
       "    <tr style=\"text-align: right;\">\n",
       "      <th></th>\n",
       "      <th>Compound</th>\n",
       "      <th>Negative</th>\n",
       "      <th>Neutral</th>\n",
       "      <th>Positive</th>\n",
       "      <th>Text</th>\n",
       "    </tr>\n",
       "  </thead>\n",
       "  <tbody>\n",
       "    <tr>\n",
       "      <th>0</th>\n",
       "      <td>-0.6705</td>\n",
       "      <td>0.199</td>\n",
       "      <td>0.737</td>\n",
       "      <td>0.064</td>\n",
       "      <td>A former Microsoft software engineer from Ukra...</td>\n",
       "    </tr>\n",
       "    <tr>\n",
       "      <th>1</th>\n",
       "      <td>0.6369</td>\n",
       "      <td>0.000</td>\n",
       "      <td>0.838</td>\n",
       "      <td>0.162</td>\n",
       "      <td>Visa has partnered with cryptocurrency startup...</td>\n",
       "    </tr>\n",
       "    <tr>\n",
       "      <th>2</th>\n",
       "      <td>0.2144</td>\n",
       "      <td>0.000</td>\n",
       "      <td>0.947</td>\n",
       "      <td>0.053</td>\n",
       "      <td>PayPal is bringing its newly-announced support...</td>\n",
       "    </tr>\n",
       "    <tr>\n",
       "      <th>3</th>\n",
       "      <td>0.2023</td>\n",
       "      <td>0.000</td>\n",
       "      <td>0.950</td>\n",
       "      <td>0.050</td>\n",
       "      <td>In November 2017, after an absolutely massive,...</td>\n",
       "    </tr>\n",
       "    <tr>\n",
       "      <th>4</th>\n",
       "      <td>0.0000</td>\n",
       "      <td>0.000</td>\n",
       "      <td>1.000</td>\n",
       "      <td>0.000</td>\n",
       "      <td>Unlike ‘conventional’ cryptocurrencies, a cent...</td>\n",
       "    </tr>\n",
       "  </tbody>\n",
       "</table>\n",
       "</div>"
      ],
      "text/plain": [
       "   Compound  Negative  Neutral  Positive  \\\n",
       "0   -0.6705     0.199    0.737     0.064   \n",
       "1    0.6369     0.000    0.838     0.162   \n",
       "2    0.2144     0.000    0.947     0.053   \n",
       "3    0.2023     0.000    0.950     0.050   \n",
       "4    0.0000     0.000    1.000     0.000   \n",
       "\n",
       "                                                Text  \n",
       "0  A former Microsoft software engineer from Ukra...  \n",
       "1  Visa has partnered with cryptocurrency startup...  \n",
       "2  PayPal is bringing its newly-announced support...  \n",
       "3  In November 2017, after an absolutely massive,...  \n",
       "4  Unlike ‘conventional’ cryptocurrencies, a cent...  "
      ]
     },
     "execution_count": 26,
     "metadata": {},
     "output_type": "execute_result"
    }
   ],
   "source": [
    "# Create the Bitcoin sentiment scores DataFrame\n",
    "bitcoin_sentiments = []\n",
    "\n",
    "for article in bitcoin_headlines[\"articles\"]:\n",
    "    try:\n",
    "        \n",
    "        text = article[\"content\"]\n",
    "        sentiment = analyzer.polarity_scores(text)\n",
    "        compound = sentiment[\"compound\"]\n",
    "        neg = sentiment[\"neg\"]\n",
    "        neu = sentiment[\"neu\"]\n",
    "        pos = sentiment[\"pos\"]\n",
    "        \n",
    "        bitcoin_sentiments.append({\n",
    "            \"Compound\": compound,\n",
    "            \"Negative\": neg,\n",
    "            \"Neutral\": neu,\n",
    "            \"Positive\": pos,\n",
    "            \"Text\": text,\n",
    " \n",
    "        })\n",
    "        \n",
    "    except AttributeError:\n",
    "        pass\n",
    "    \n",
    "# Create DataFrame\n",
    "bitcoin_sentiments_df = pd.DataFrame(bitcoin_sentiments)\n",
    "\n",
    "# Reorder DataFrame columns\n",
    "cols = [\"Compound\", \"Negative\", \"Neutral\", \"Positive\", \"Text\"]\n",
    "bitcoin_sentiments_df = bitcoin_sentiments_df[cols]\n",
    "\n",
    "bitcoin_sentiments_df.head()"
   ]
  },
  {
   "cell_type": "code",
   "execution_count": 27,
   "metadata": {},
   "outputs": [],
   "source": [
    "file_path = Path(\"../Data/\")\n",
    "bitcoin_sentiments_df.to_csv(file_path, index=False, encoding='utf-8-sig')"
   ]
  },
  {
   "cell_type": "code",
   "execution_count": 28,
   "metadata": {},
   "outputs": [],
   "source": [
    "file_path = Path(\"../Data/\")\n",
    "bitcoin_sentiments_df.to_pickle(file_path)"
   ]
  },
  {
   "cell_type": "code",
   "execution_count": 29,
   "metadata": {},
   "outputs": [
    {
     "data": {
      "text/html": [
       "<div>\n",
       "<style scoped>\n",
       "    .dataframe tbody tr th:only-of-type {\n",
       "        vertical-align: middle;\n",
       "    }\n",
       "\n",
       "    .dataframe tbody tr th {\n",
       "        vertical-align: top;\n",
       "    }\n",
       "\n",
       "    .dataframe thead th {\n",
       "        text-align: right;\n",
       "    }\n",
       "</style>\n",
       "<table border=\"1\" class=\"dataframe\">\n",
       "  <thead>\n",
       "    <tr style=\"text-align: right;\">\n",
       "      <th></th>\n",
       "      <th>Compound</th>\n",
       "      <th>Negative</th>\n",
       "      <th>Neutral</th>\n",
       "      <th>Positive</th>\n",
       "      <th>Text</th>\n",
       "    </tr>\n",
       "  </thead>\n",
       "  <tbody>\n",
       "    <tr>\n",
       "      <th>0</th>\n",
       "      <td>0.2144</td>\n",
       "      <td>0.0</td>\n",
       "      <td>0.947</td>\n",
       "      <td>0.053</td>\n",
       "      <td>PayPal is bringing its newly-announced support...</td>\n",
       "    </tr>\n",
       "    <tr>\n",
       "      <th>1</th>\n",
       "      <td>0.0000</td>\n",
       "      <td>0.0</td>\n",
       "      <td>1.000</td>\n",
       "      <td>0.000</td>\n",
       "      <td>FILE PHOTO: Representation of the Ethereum vir...</td>\n",
       "    </tr>\n",
       "    <tr>\n",
       "      <th>2</th>\n",
       "      <td>0.0000</td>\n",
       "      <td>0.0</td>\n",
       "      <td>1.000</td>\n",
       "      <td>0.000</td>\n",
       "      <td>FILE PHOTO: Representation of the Ethereum vir...</td>\n",
       "    </tr>\n",
       "    <tr>\n",
       "      <th>3</th>\n",
       "      <td>0.4215</td>\n",
       "      <td>0.0</td>\n",
       "      <td>0.912</td>\n",
       "      <td>0.088</td>\n",
       "      <td>LONDON (Reuters) - Digital currencies Ethereum...</td>\n",
       "    </tr>\n",
       "    <tr>\n",
       "      <th>4</th>\n",
       "      <td>0.8779</td>\n",
       "      <td>0.0</td>\n",
       "      <td>0.682</td>\n",
       "      <td>0.318</td>\n",
       "      <td>PayPal has launched the Generosity Network, a ...</td>\n",
       "    </tr>\n",
       "  </tbody>\n",
       "</table>\n",
       "</div>"
      ],
      "text/plain": [
       "   Compound  Negative  Neutral  Positive  \\\n",
       "0    0.2144       0.0    0.947     0.053   \n",
       "1    0.0000       0.0    1.000     0.000   \n",
       "2    0.0000       0.0    1.000     0.000   \n",
       "3    0.4215       0.0    0.912     0.088   \n",
       "4    0.8779       0.0    0.682     0.318   \n",
       "\n",
       "                                                Text  \n",
       "0  PayPal is bringing its newly-announced support...  \n",
       "1  FILE PHOTO: Representation of the Ethereum vir...  \n",
       "2  FILE PHOTO: Representation of the Ethereum vir...  \n",
       "3  LONDON (Reuters) - Digital currencies Ethereum...  \n",
       "4  PayPal has launched the Generosity Network, a ...  "
      ]
     },
     "execution_count": 29,
     "metadata": {},
     "output_type": "execute_result"
    }
   ],
   "source": [
    "# Create the ethereum sentiment scores DataFrame\n",
    "ethereum_sentiments = []\n",
    "\n",
    "for article in ethereum_headlines[\"articles\"]:\n",
    "    try:\n",
    "        \n",
    "        text = article[\"content\"]\n",
    "        sentiment = analyzer.polarity_scores(text)\n",
    "        compound = sentiment[\"compound\"]\n",
    "        neg = sentiment[\"neg\"]\n",
    "        neu = sentiment[\"neu\"]\n",
    "        pos = sentiment[\"pos\"]\n",
    "        \n",
    "        ethereum_sentiments.append({\n",
    "            \"Compound\": compound,\n",
    "            \"Negative\": neg,\n",
    "            \"Neutral\": neu,\n",
    "            \"Positive\": pos,\n",
    "            \"Text\": text,\n",
    " \n",
    "        })\n",
    "        \n",
    "    except AttributeError:\n",
    "        pass\n",
    "    \n",
    "# Create DataFrame\n",
    "ethereum_sentiments_df = pd.DataFrame(ethereum_sentiments)\n",
    "\n",
    "# Reorder DataFrame columns\n",
    "cols = [\"Compound\", \"Negative\", \"Neutral\", \"Positive\", \"Text\"]\n",
    "ethereum_sentiments_df = ethereum_sentiments_df[cols]\n",
    "\n",
    "ethereum_sentiments_df.head()"
   ]
  },
  {
   "cell_type": "code",
   "execution_count": 30,
   "metadata": {},
   "outputs": [
    {
     "data": {
      "text/html": [
       "<div>\n",
       "<style scoped>\n",
       "    .dataframe tbody tr th:only-of-type {\n",
       "        vertical-align: middle;\n",
       "    }\n",
       "\n",
       "    .dataframe tbody tr th {\n",
       "        vertical-align: top;\n",
       "    }\n",
       "\n",
       "    .dataframe thead th {\n",
       "        text-align: right;\n",
       "    }\n",
       "</style>\n",
       "<table border=\"1\" class=\"dataframe\">\n",
       "  <thead>\n",
       "    <tr style=\"text-align: right;\">\n",
       "      <th></th>\n",
       "      <th>Compound</th>\n",
       "      <th>Negative</th>\n",
       "      <th>Neutral</th>\n",
       "      <th>Positive</th>\n",
       "    </tr>\n",
       "  </thead>\n",
       "  <tbody>\n",
       "    <tr>\n",
       "      <th>count</th>\n",
       "      <td>98.000000</td>\n",
       "      <td>98.000000</td>\n",
       "      <td>98.000000</td>\n",
       "      <td>98.000000</td>\n",
       "    </tr>\n",
       "    <tr>\n",
       "      <th>mean</th>\n",
       "      <td>0.151223</td>\n",
       "      <td>0.020847</td>\n",
       "      <td>0.922173</td>\n",
       "      <td>0.056990</td>\n",
       "    </tr>\n",
       "    <tr>\n",
       "      <th>std</th>\n",
       "      <td>0.338619</td>\n",
       "      <td>0.053264</td>\n",
       "      <td>0.083086</td>\n",
       "      <td>0.065976</td>\n",
       "    </tr>\n",
       "    <tr>\n",
       "      <th>min</th>\n",
       "      <td>-0.946800</td>\n",
       "      <td>0.000000</td>\n",
       "      <td>0.637000</td>\n",
       "      <td>0.000000</td>\n",
       "    </tr>\n",
       "    <tr>\n",
       "      <th>25%</th>\n",
       "      <td>0.000000</td>\n",
       "      <td>0.000000</td>\n",
       "      <td>0.858000</td>\n",
       "      <td>0.000000</td>\n",
       "    </tr>\n",
       "    <tr>\n",
       "      <th>50%</th>\n",
       "      <td>0.000000</td>\n",
       "      <td>0.000000</td>\n",
       "      <td>0.948000</td>\n",
       "      <td>0.050000</td>\n",
       "    </tr>\n",
       "    <tr>\n",
       "      <th>75%</th>\n",
       "      <td>0.416600</td>\n",
       "      <td>0.000000</td>\n",
       "      <td>1.000000</td>\n",
       "      <td>0.120000</td>\n",
       "    </tr>\n",
       "    <tr>\n",
       "      <th>max</th>\n",
       "      <td>0.877900</td>\n",
       "      <td>0.363000</td>\n",
       "      <td>1.000000</td>\n",
       "      <td>0.318000</td>\n",
       "    </tr>\n",
       "  </tbody>\n",
       "</table>\n",
       "</div>"
      ],
      "text/plain": [
       "        Compound   Negative    Neutral   Positive\n",
       "count  98.000000  98.000000  98.000000  98.000000\n",
       "mean    0.151223   0.020847   0.922173   0.056990\n",
       "std     0.338619   0.053264   0.083086   0.065976\n",
       "min    -0.946800   0.000000   0.637000   0.000000\n",
       "25%     0.000000   0.000000   0.858000   0.000000\n",
       "50%     0.000000   0.000000   0.948000   0.050000\n",
       "75%     0.416600   0.000000   1.000000   0.120000\n",
       "max     0.877900   0.363000   1.000000   0.318000"
      ]
     },
     "execution_count": 30,
     "metadata": {},
     "output_type": "execute_result"
    }
   ],
   "source": [
    "# Describe the Bitcoin Sentiment\n",
    "bitcoin_sentiments_df.describe()"
   ]
  },
  {
   "cell_type": "code",
   "execution_count": 31,
   "metadata": {},
   "outputs": [
    {
     "data": {
      "text/html": [
       "<div>\n",
       "<style scoped>\n",
       "    .dataframe tbody tr th:only-of-type {\n",
       "        vertical-align: middle;\n",
       "    }\n",
       "\n",
       "    .dataframe tbody tr th {\n",
       "        vertical-align: top;\n",
       "    }\n",
       "\n",
       "    .dataframe thead th {\n",
       "        text-align: right;\n",
       "    }\n",
       "</style>\n",
       "<table border=\"1\" class=\"dataframe\">\n",
       "  <thead>\n",
       "    <tr style=\"text-align: right;\">\n",
       "      <th></th>\n",
       "      <th>Compound</th>\n",
       "      <th>Negative</th>\n",
       "      <th>Neutral</th>\n",
       "      <th>Positive</th>\n",
       "    </tr>\n",
       "  </thead>\n",
       "  <tbody>\n",
       "    <tr>\n",
       "      <th>count</th>\n",
       "      <td>99.000000</td>\n",
       "      <td>99.000000</td>\n",
       "      <td>99.000000</td>\n",
       "      <td>99.000000</td>\n",
       "    </tr>\n",
       "    <tr>\n",
       "      <th>mean</th>\n",
       "      <td>0.210089</td>\n",
       "      <td>0.021768</td>\n",
       "      <td>0.904606</td>\n",
       "      <td>0.073626</td>\n",
       "    </tr>\n",
       "    <tr>\n",
       "      <th>std</th>\n",
       "      <td>0.365659</td>\n",
       "      <td>0.044677</td>\n",
       "      <td>0.087777</td>\n",
       "      <td>0.077356</td>\n",
       "    </tr>\n",
       "    <tr>\n",
       "      <th>min</th>\n",
       "      <td>-0.670500</td>\n",
       "      <td>0.000000</td>\n",
       "      <td>0.653000</td>\n",
       "      <td>0.000000</td>\n",
       "    </tr>\n",
       "    <tr>\n",
       "      <th>25%</th>\n",
       "      <td>0.000000</td>\n",
       "      <td>0.000000</td>\n",
       "      <td>0.849000</td>\n",
       "      <td>0.000000</td>\n",
       "    </tr>\n",
       "    <tr>\n",
       "      <th>50%</th>\n",
       "      <td>0.177900</td>\n",
       "      <td>0.000000</td>\n",
       "      <td>0.912000</td>\n",
       "      <td>0.070000</td>\n",
       "    </tr>\n",
       "    <tr>\n",
       "      <th>75%</th>\n",
       "      <td>0.502250</td>\n",
       "      <td>0.000000</td>\n",
       "      <td>1.000000</td>\n",
       "      <td>0.129500</td>\n",
       "    </tr>\n",
       "    <tr>\n",
       "      <th>max</th>\n",
       "      <td>0.883400</td>\n",
       "      <td>0.196000</td>\n",
       "      <td>1.000000</td>\n",
       "      <td>0.347000</td>\n",
       "    </tr>\n",
       "  </tbody>\n",
       "</table>\n",
       "</div>"
      ],
      "text/plain": [
       "        Compound   Negative    Neutral   Positive\n",
       "count  99.000000  99.000000  99.000000  99.000000\n",
       "mean    0.210089   0.021768   0.904606   0.073626\n",
       "std     0.365659   0.044677   0.087777   0.077356\n",
       "min    -0.670500   0.000000   0.653000   0.000000\n",
       "25%     0.000000   0.000000   0.849000   0.000000\n",
       "50%     0.177900   0.000000   0.912000   0.070000\n",
       "75%     0.502250   0.000000   1.000000   0.129500\n",
       "max     0.883400   0.196000   1.000000   0.347000"
      ]
     },
     "execution_count": 31,
     "metadata": {},
     "output_type": "execute_result"
    }
   ],
   "source": [
    "# Describe the Ethereum Sentiment\n",
    "ethereum_sentiments_df.describe()"
   ]
  },
  {
   "cell_type": "markdown",
   "metadata": {},
   "source": [
    "### Questions:\n",
    "\n",
    "Q: Which coin had the highest mean positive score?\n",
    "\n",
    "A: \n",
    "\n",
    "Q: Which coin had the highest compound score?\n",
    "\n",
    "A: \n",
    "\n",
    "Q. Which coin had the highest positive score?\n",
    "\n",
    "A: "
   ]
  },
  {
   "cell_type": "code",
   "execution_count": null,
   "metadata": {},
   "outputs": [],
   "source": [
    "Answer A :Bitcoin has the higher mean positive score compared to ethereum, 0.068 vs. 0.068.\n",
    "Answer B :Based on the descriptive statistics, Ethereum has the highest compound score that topped at 0.90 vs. the maximum compound score of 0.79 from Ethereum.\n",
    "However, Bitcoin has compound scores higher than Ethereum on its average, minimum, 25th, 50th and 75th percentiles.     \n",
    "\n",
    "Answer C : Ethereum has the highest positive score with its maximum at 0.21 rather than the 0.14 received by Bitcoin.\n",
    "Sentiments towards Ethereum are more volatile as the standard deviations are higher than those for Bitcoin on scores for compound, negative, neutral and positive texts."
   ]
  },
  {
   "cell_type": "markdown",
   "metadata": {},
   "source": [
    "---"
   ]
  },
  {
   "cell_type": "markdown",
   "metadata": {},
   "source": [
    "# Tokenizer\n",
    "\n",
    "In this section, you will use NLTK and Python to tokenize the text for each coin. Be sure to:\n",
    "1. Lowercase each word\n",
    "2. Remove Punctuation\n",
    "3. Remove Stopwords"
   ]
  },
  {
   "cell_type": "code",
   "execution_count": 50,
   "metadata": {},
   "outputs": [],
   "source": [
    "from nltk.tokenize import word_tokenize, sent_tokenize\n",
    "from nltk.corpus import stopwords\n",
    "from nltk.stem import WordNetLemmatizer, PorterStemmer\n",
    "from string import punctuation\n",
    "import re"
   ]
  },
  {
   "cell_type": "code",
   "execution_count": 51,
   "metadata": {},
   "outputs": [
    {
     "name": "stderr",
     "output_type": "stream",
     "text": [
      "[nltk_data] Downloading package wordnet to\n",
      "[nltk_data]     C:\\Users\\mischelle.massey\\AppData\\Roaming\\nltk_data...\n",
      "[nltk_data]   Package wordnet is already up-to-date!\n"
     ]
    }
   ],
   "source": [
    "# Code to download wordnet corpora\n",
    "import nltk\n",
    "nltk.download('wordnet')\n",
    "\n",
    "lemmatizer = WordNetLemmatizer()"
   ]
  },
  {
   "cell_type": "code",
   "execution_count": 52,
   "metadata": {},
   "outputs": [],
   "source": [
    "def tokenizer(text):\n",
    "    \"\"\"Tokenizes text.\"\"\"\n",
    "# Remove the punctuation\n",
    "regex = re.compile(\"[^a-zA-Z ]\")\n",
    "clean_text = regex.sub('', text)\n",
    "    \n",
    "# Create a list of the words\n",
    "sentence = sent_tokenize(clean_text)\n",
    "words = []\n",
    "for sent in sentence:\n",
    "    word = word_tokenize(sent)\n",
    "    words = words + word    \n",
    "        \n",
    "# Convert the words to lowercase\n",
    "words_lc = [word.lower() for word in words]  \n",
    "\n",
    "\n",
    "# Remove the stop words\n",
    "sw = set(stopwords.words('english'))\n",
    "words_sw = [word for word in words_lc if word not in sw]\n",
    "\n"
   ]
  },
  {
   "cell_type": "code",
   "execution_count": 53,
   "metadata": {},
   "outputs": [
    {
     "name": "stdout",
     "output_type": "stream",
     "text": [
      "['coindesk', 'snagged', 'frontrow', 'seat', 'seminal', 'event', 'crypto', 'industry', 'ticket', 'price', 'ethas', 'media', 'outlet', 'covering', 'nascent', 'technologies', 'believe', 'sometimes', 'chronicle', 'chars']\n"
     ]
    }
   ],
   "source": [
    "print(words_sw)"
   ]
  },
  {
   "cell_type": "code",
   "execution_count": 54,
   "metadata": {},
   "outputs": [],
   "source": [
    "# Expand the default stopwords list if necessary\n",
    "sw_addon = {\"''\", 'and','...','such', 'thus',\"n't\", \"-\", '\"\"','_','upon','for','shall','just','onto'}"
   ]
  },
  {
   "cell_type": "code",
   "execution_count": 56,
   "metadata": {},
   "outputs": [],
   "source": [
    "# Complete the tokenizer function\n",
    "def tokenizer(Text):\n",
    "    \"\"\"Tokenizes text.\"\"\"\n",
    "    \n",
    "    # Create a list of the words\n",
    "    # Remove the punctuation\n",
    "    regex = re.compile(\"[^a-zA-Z ]\")\n",
    "    re_clean = regex.sub('', Text)\n",
    "    words = word_tokenize(re_clean)\n",
    "    \n",
    "    # Lemmatize Words into root words\n",
    "    lem = [lemmatizer.lemmatize(word) for word in words]\n",
    "    \n",
    "    # Convert the words to lowercase\n",
    "    # Remove the stop words\n",
    "    tokens = [word.lower() for word in lem if word.lower() not in sw]\n",
    "#    tokens = [', '.join(output)] left to ngrams function\n",
    "    \n",
    "    return tokens\n"
   ]
  },
  {
   "cell_type": "code",
   "execution_count": 57,
   "metadata": {},
   "outputs": [
    {
     "data": {
      "text/html": [
       "<div>\n",
       "<style scoped>\n",
       "    .dataframe tbody tr th:only-of-type {\n",
       "        vertical-align: middle;\n",
       "    }\n",
       "\n",
       "    .dataframe tbody tr th {\n",
       "        vertical-align: top;\n",
       "    }\n",
       "\n",
       "    .dataframe thead th {\n",
       "        text-align: right;\n",
       "    }\n",
       "</style>\n",
       "<table border=\"1\" class=\"dataframe\">\n",
       "  <thead>\n",
       "    <tr style=\"text-align: right;\">\n",
       "      <th></th>\n",
       "      <th>Compound</th>\n",
       "      <th>Negative</th>\n",
       "      <th>Neutral</th>\n",
       "      <th>Positive</th>\n",
       "      <th>Text</th>\n",
       "      <th>Tokens</th>\n",
       "    </tr>\n",
       "  </thead>\n",
       "  <tbody>\n",
       "    <tr>\n",
       "      <th>0</th>\n",
       "      <td>-0.6705</td>\n",
       "      <td>0.199</td>\n",
       "      <td>0.737</td>\n",
       "      <td>0.064</td>\n",
       "      <td>A former Microsoft software engineer from Ukra...</td>\n",
       "      <td>[former, microsoft, software, engineer, ukrain...</td>\n",
       "    </tr>\n",
       "    <tr>\n",
       "      <th>1</th>\n",
       "      <td>0.6369</td>\n",
       "      <td>0.000</td>\n",
       "      <td>0.838</td>\n",
       "      <td>0.162</td>\n",
       "      <td>Visa has partnered with cryptocurrency startup...</td>\n",
       "      <td>[visahas, partnered, cryptocurrency, startup, ...</td>\n",
       "    </tr>\n",
       "    <tr>\n",
       "      <th>2</th>\n",
       "      <td>0.2144</td>\n",
       "      <td>0.000</td>\n",
       "      <td>0.947</td>\n",
       "      <td>0.053</td>\n",
       "      <td>PayPal is bringing its newly-announced support...</td>\n",
       "      <td>[paypal, bringing, newlyannounced, support, cr...</td>\n",
       "    </tr>\n",
       "    <tr>\n",
       "      <th>3</th>\n",
       "      <td>0.2023</td>\n",
       "      <td>0.000</td>\n",
       "      <td>0.950</td>\n",
       "      <td>0.050</td>\n",
       "      <td>In November 2017, after an absolutely massive,...</td>\n",
       "      <td>[november, absolutely, massive, twomonth, rall...</td>\n",
       "    </tr>\n",
       "    <tr>\n",
       "      <th>4</th>\n",
       "      <td>0.0000</td>\n",
       "      <td>0.000</td>\n",
       "      <td>1.000</td>\n",
       "      <td>0.000</td>\n",
       "      <td>Unlike ‘conventional’ cryptocurrencies, a cent...</td>\n",
       "      <td>[unlike, conventional, cryptocurrencies, centr...</td>\n",
       "    </tr>\n",
       "  </tbody>\n",
       "</table>\n",
       "</div>"
      ],
      "text/plain": [
       "   Compound  Negative  Neutral  Positive  \\\n",
       "0   -0.6705     0.199    0.737     0.064   \n",
       "1    0.6369     0.000    0.838     0.162   \n",
       "2    0.2144     0.000    0.947     0.053   \n",
       "3    0.2023     0.000    0.950     0.050   \n",
       "4    0.0000     0.000    1.000     0.000   \n",
       "\n",
       "                                                Text  \\\n",
       "0  A former Microsoft software engineer from Ukra...   \n",
       "1  Visa has partnered with cryptocurrency startup...   \n",
       "2  PayPal is bringing its newly-announced support...   \n",
       "3  In November 2017, after an absolutely massive,...   \n",
       "4  Unlike ‘conventional’ cryptocurrencies, a cent...   \n",
       "\n",
       "                                              Tokens  \n",
       "0  [former, microsoft, software, engineer, ukrain...  \n",
       "1  [visahas, partnered, cryptocurrency, startup, ...  \n",
       "2  [paypal, bringing, newlyannounced, support, cr...  \n",
       "3  [november, absolutely, massive, twomonth, rall...  \n",
       "4  [unlike, conventional, cryptocurrencies, centr...  "
      ]
     },
     "execution_count": 57,
     "metadata": {},
     "output_type": "execute_result"
    }
   ],
   "source": [
    "# Create a new tokens column for bitcoin\n",
    "bitcoin_sentiments_df[\"Tokens\"] = bitcoin_sentiments_df['Text'].apply(tokenizer)\n",
    "bitcoin_sentiments_df.head()"
   ]
  },
  {
   "cell_type": "code",
   "execution_count": 58,
   "metadata": {},
   "outputs": [],
   "source": [
    "file_path = Path(\"../Data/\")\n",
    "bitcoin_sentiments_df.to_pickle(file_path)"
   ]
  },
  {
   "cell_type": "code",
   "execution_count": 59,
   "metadata": {},
   "outputs": [],
   "source": [
    "file_path = Path(\"../Data/\")\n",
    "bitcoin_df.to_csv(file_path, index=False, encoding='utf-8-sig')"
   ]
  },
  {
   "cell_type": "code",
   "execution_count": 60,
   "metadata": {},
   "outputs": [
    {
     "data": {
      "text/html": [
       "<div>\n",
       "<style scoped>\n",
       "    .dataframe tbody tr th:only-of-type {\n",
       "        vertical-align: middle;\n",
       "    }\n",
       "\n",
       "    .dataframe tbody tr th {\n",
       "        vertical-align: top;\n",
       "    }\n",
       "\n",
       "    .dataframe thead th {\n",
       "        text-align: right;\n",
       "    }\n",
       "</style>\n",
       "<table border=\"1\" class=\"dataframe\">\n",
       "  <thead>\n",
       "    <tr style=\"text-align: right;\">\n",
       "      <th></th>\n",
       "      <th>Compound</th>\n",
       "      <th>Negative</th>\n",
       "      <th>Neutral</th>\n",
       "      <th>Positive</th>\n",
       "      <th>Text</th>\n",
       "      <th>Tokens</th>\n",
       "    </tr>\n",
       "  </thead>\n",
       "  <tbody>\n",
       "    <tr>\n",
       "      <th>0</th>\n",
       "      <td>0.2144</td>\n",
       "      <td>0.0</td>\n",
       "      <td>0.947</td>\n",
       "      <td>0.053</td>\n",
       "      <td>PayPal is bringing its newly-announced support...</td>\n",
       "      <td>[paypal, bringing, newlyannounced, support, cr...</td>\n",
       "    </tr>\n",
       "    <tr>\n",
       "      <th>1</th>\n",
       "      <td>0.0000</td>\n",
       "      <td>0.0</td>\n",
       "      <td>1.000</td>\n",
       "      <td>0.000</td>\n",
       "      <td>FILE PHOTO: Representation of the Ethereum vir...</td>\n",
       "      <td>[file, photo, representation, ethereum, virtua...</td>\n",
       "    </tr>\n",
       "    <tr>\n",
       "      <th>2</th>\n",
       "      <td>0.0000</td>\n",
       "      <td>0.0</td>\n",
       "      <td>1.000</td>\n",
       "      <td>0.000</td>\n",
       "      <td>FILE PHOTO: Representation of the Ethereum vir...</td>\n",
       "      <td>[file, photo, representation, ethereum, virtua...</td>\n",
       "    </tr>\n",
       "    <tr>\n",
       "      <th>3</th>\n",
       "      <td>0.4215</td>\n",
       "      <td>0.0</td>\n",
       "      <td>0.912</td>\n",
       "      <td>0.088</td>\n",
       "      <td>LONDON (Reuters) - Digital currencies Ethereum...</td>\n",
       "      <td>[london, reuters, digital, currency, ethereum,...</td>\n",
       "    </tr>\n",
       "    <tr>\n",
       "      <th>4</th>\n",
       "      <td>0.8779</td>\n",
       "      <td>0.0</td>\n",
       "      <td>0.682</td>\n",
       "      <td>0.318</td>\n",
       "      <td>PayPal has launched the Generosity Network, a ...</td>\n",
       "      <td>[paypal, ha, launched, generosity, network, pl...</td>\n",
       "    </tr>\n",
       "  </tbody>\n",
       "</table>\n",
       "</div>"
      ],
      "text/plain": [
       "   Compound  Negative  Neutral  Positive  \\\n",
       "0    0.2144       0.0    0.947     0.053   \n",
       "1    0.0000       0.0    1.000     0.000   \n",
       "2    0.0000       0.0    1.000     0.000   \n",
       "3    0.4215       0.0    0.912     0.088   \n",
       "4    0.8779       0.0    0.682     0.318   \n",
       "\n",
       "                                                Text  \\\n",
       "0  PayPal is bringing its newly-announced support...   \n",
       "1  FILE PHOTO: Representation of the Ethereum vir...   \n",
       "2  FILE PHOTO: Representation of the Ethereum vir...   \n",
       "3  LONDON (Reuters) - Digital currencies Ethereum...   \n",
       "4  PayPal has launched the Generosity Network, a ...   \n",
       "\n",
       "                                              Tokens  \n",
       "0  [paypal, bringing, newlyannounced, support, cr...  \n",
       "1  [file, photo, representation, ethereum, virtua...  \n",
       "2  [file, photo, representation, ethereum, virtua...  \n",
       "3  [london, reuters, digital, currency, ethereum,...  \n",
       "4  [paypal, ha, launched, generosity, network, pl...  "
      ]
     },
     "execution_count": 60,
     "metadata": {},
     "output_type": "execute_result"
    }
   ],
   "source": [
    "# Create a new tokens column for ethereum\n",
    "ethereum_sentiments_df[\"Tokens\"] = ethereum_sentiments_df['Text'].apply(tokenizer)\n",
    "ethereum_sentiments_df.head()"
   ]
  },
  {
   "cell_type": "code",
   "execution_count": 61,
   "metadata": {},
   "outputs": [],
   "source": [
    "file_path = Path(\"../Data/\")\n",
    "ethereum_sentiments_df.to_csv(file_path, index=False, encoding='utf-8-sig')"
   ]
  },
  {
   "cell_type": "code",
   "execution_count": 62,
   "metadata": {},
   "outputs": [],
   "source": [
    "file_path = Path(\"../Data/\")\n",
    "ethereum_sentiments_df.to_pickle(file_path)"
   ]
  },
  {
   "cell_type": "markdown",
   "metadata": {},
   "source": [
    "---"
   ]
  },
  {
   "cell_type": "markdown",
   "metadata": {},
   "source": [
    "# NGrams and Frequency Analysis\n",
    "\n",
    "In this section you will look at the ngrams and word frequency for each coin. \n",
    "\n",
    "1. Use NLTK to produce the n-grams for N = 2. \n",
    "2. List the top 10 words for each coin. "
   ]
  },
  {
   "cell_type": "code",
   "execution_count": 63,
   "metadata": {},
   "outputs": [],
   "source": [
    "from collections import Counter\n",
    "from nltk import ngrams\n",
    "\n",
    "from nltk.corpus import reuters, stopwords\n",
    "from nltk.util import ngrams\n",
    "from nltk.tokenize import word_tokenize\n",
    "from nltk.stem import WordNetLemmatizer\n",
    "import re\n",
    "import pandas as pd\n",
    "from collections import Counter"
   ]
  },
  {
   "cell_type": "code",
   "execution_count": 64,
   "metadata": {},
   "outputs": [],
   "source": [
    "# Define a bigram_counter function\n",
    "def bigram_counter(tokens): \n",
    "    # Combine all articles in corpus into one large string\n",
    "    big_string = ' '.join(tokens)\n",
    "    processed = tokenizer(big_string) \n",
    "    bigrams = ngrams(processed, n=2)\n",
    "    top_10 = dict(Counter(bigrams).most_common(10))\n",
    "    return pd.DataFrame(list(top_10.items()), columns=['Bigram', 'Count'])"
   ]
  },
  {
   "cell_type": "code",
   "execution_count": 65,
   "metadata": {},
   "outputs": [],
   "source": [
    "# Generate the Bitcoin N-grams where N=2\n",
    "tokens_bitcoin = bitcoin_sentiments_df.Tokens.astype('str')"
   ]
  },
  {
   "cell_type": "code",
   "execution_count": 66,
   "metadata": {},
   "outputs": [
    {
     "name": "stdout",
     "output_type": "stream",
     "text": [
      "Top 10 Bitcoin Bigrams\n"
     ]
    },
    {
     "data": {
      "text/html": [
       "<div>\n",
       "<style scoped>\n",
       "    .dataframe tbody tr th:only-of-type {\n",
       "        vertical-align: middle;\n",
       "    }\n",
       "\n",
       "    .dataframe tbody tr th {\n",
       "        vertical-align: top;\n",
       "    }\n",
       "\n",
       "    .dataframe thead th {\n",
       "        text-align: right;\n",
       "    }\n",
       "</style>\n",
       "<table border=\"1\" class=\"dataframe\">\n",
       "  <thead>\n",
       "    <tr style=\"text-align: right;\">\n",
       "      <th></th>\n",
       "      <th>Bigram</th>\n",
       "      <th>Count</th>\n",
       "    </tr>\n",
       "  </thead>\n",
       "  <tbody>\n",
       "    <tr>\n",
       "      <th>0</th>\n",
       "      <td>(virtual, currency)</td>\n",
       "      <td>31</td>\n",
       "    </tr>\n",
       "    <tr>\n",
       "      <th>1</th>\n",
       "      <td>(reuters, bitcoin)</td>\n",
       "      <td>26</td>\n",
       "    </tr>\n",
       "    <tr>\n",
       "      <th>2</th>\n",
       "      <td>(representation, virtual)</td>\n",
       "      <td>23</td>\n",
       "    </tr>\n",
       "    <tr>\n",
       "      <th>3</th>\n",
       "      <td>(currency, bitcoin)</td>\n",
       "      <td>23</td>\n",
       "    </tr>\n",
       "    <tr>\n",
       "      <th>4</th>\n",
       "      <td>(illustration, taken)</td>\n",
       "      <td>23</td>\n",
       "    </tr>\n",
       "    <tr>\n",
       "      <th>5</th>\n",
       "      <td>(char, reuters)</td>\n",
       "      <td>21</td>\n",
       "    </tr>\n",
       "    <tr>\n",
       "      <th>6</th>\n",
       "      <td>(photo, representation)</td>\n",
       "      <td>20</td>\n",
       "    </tr>\n",
       "    <tr>\n",
       "      <th>7</th>\n",
       "      <td>(bitcoin, seen)</td>\n",
       "      <td>19</td>\n",
       "    </tr>\n",
       "    <tr>\n",
       "      <th>8</th>\n",
       "      <td>(reuters, stafffile)</td>\n",
       "      <td>13</td>\n",
       "    </tr>\n",
       "    <tr>\n",
       "      <th>9</th>\n",
       "      <td>(stafffile, photo)</td>\n",
       "      <td>13</td>\n",
       "    </tr>\n",
       "  </tbody>\n",
       "</table>\n",
       "</div>"
      ],
      "text/plain": [
       "                      Bigram  Count\n",
       "0        (virtual, currency)     31\n",
       "1         (reuters, bitcoin)     26\n",
       "2  (representation, virtual)     23\n",
       "3        (currency, bitcoin)     23\n",
       "4      (illustration, taken)     23\n",
       "5            (char, reuters)     21\n",
       "6    (photo, representation)     20\n",
       "7            (bitcoin, seen)     19\n",
       "8       (reuters, stafffile)     13\n",
       "9         (stafffile, photo)     13"
      ]
     },
     "execution_count": 66,
     "metadata": {},
     "output_type": "execute_result"
    }
   ],
   "source": [
    "print(f'Top 10 Bitcoin Bigrams')\n",
    "bigram_counter(tokens_bitcoin)"
   ]
  },
  {
   "cell_type": "code",
   "execution_count": 67,
   "metadata": {},
   "outputs": [],
   "source": [
    "# Generate the Ethereum N-grams where N=2\n",
    "tokens_ethereum = ethereum_sentiments_df.Tokens.astype('str')"
   ]
  },
  {
   "cell_type": "code",
   "execution_count": 68,
   "metadata": {},
   "outputs": [
    {
     "name": "stdout",
     "output_type": "stream",
     "text": [
      "Top 10 Ethereum Bigrams\n"
     ]
    },
    {
     "data": {
      "text/html": [
       "<div>\n",
       "<style scoped>\n",
       "    .dataframe tbody tr th:only-of-type {\n",
       "        vertical-align: middle;\n",
       "    }\n",
       "\n",
       "    .dataframe tbody tr th {\n",
       "        vertical-align: top;\n",
       "    }\n",
       "\n",
       "    .dataframe thead th {\n",
       "        text-align: right;\n",
       "    }\n",
       "</style>\n",
       "<table border=\"1\" class=\"dataframe\">\n",
       "  <thead>\n",
       "    <tr style=\"text-align: right;\">\n",
       "      <th></th>\n",
       "      <th>Bigram</th>\n",
       "      <th>Count</th>\n",
       "    </tr>\n",
       "  </thead>\n",
       "  <tbody>\n",
       "    <tr>\n",
       "      <th>0</th>\n",
       "      <td>(virtual, currency)</td>\n",
       "      <td>10</td>\n",
       "    </tr>\n",
       "    <tr>\n",
       "      <th>1</th>\n",
       "      <td>(char, bitcoin)</td>\n",
       "      <td>10</td>\n",
       "    </tr>\n",
       "    <tr>\n",
       "      <th>2</th>\n",
       "      <td>(photo, representation)</td>\n",
       "      <td>8</td>\n",
       "    </tr>\n",
       "    <tr>\n",
       "      <th>3</th>\n",
       "      <td>(york, reuters)</td>\n",
       "      <td>7</td>\n",
       "    </tr>\n",
       "    <tr>\n",
       "      <th>4</th>\n",
       "      <td>(representation, virtual)</td>\n",
       "      <td>7</td>\n",
       "    </tr>\n",
       "    <tr>\n",
       "      <th>5</th>\n",
       "      <td>(currency, bitcoin)</td>\n",
       "      <td>7</td>\n",
       "    </tr>\n",
       "    <tr>\n",
       "      <th>6</th>\n",
       "      <td>(illustration, taken)</td>\n",
       "      <td>7</td>\n",
       "    </tr>\n",
       "    <tr>\n",
       "      <th>7</th>\n",
       "      <td>(reuters, bitcoin)</td>\n",
       "      <td>7</td>\n",
       "    </tr>\n",
       "    <tr>\n",
       "      <th>8</th>\n",
       "      <td>(char, ethereum)</td>\n",
       "      <td>7</td>\n",
       "    </tr>\n",
       "    <tr>\n",
       "      <th>9</th>\n",
       "      <td>(char, new)</td>\n",
       "      <td>6</td>\n",
       "    </tr>\n",
       "  </tbody>\n",
       "</table>\n",
       "</div>"
      ],
      "text/plain": [
       "                      Bigram  Count\n",
       "0        (virtual, currency)     10\n",
       "1            (char, bitcoin)     10\n",
       "2    (photo, representation)      8\n",
       "3            (york, reuters)      7\n",
       "4  (representation, virtual)      7\n",
       "5        (currency, bitcoin)      7\n",
       "6      (illustration, taken)      7\n",
       "7         (reuters, bitcoin)      7\n",
       "8           (char, ethereum)      7\n",
       "9                (char, new)      6"
      ]
     },
     "execution_count": 68,
     "metadata": {},
     "output_type": "execute_result"
    }
   ],
   "source": [
    "print(f'Top 10 Ethereum Bigrams')\n",
    "bigram_counter(tokens_ethereum)"
   ]
  },
  {
   "cell_type": "code",
   "execution_count": 69,
   "metadata": {},
   "outputs": [],
   "source": [
    "# Use the token_count function to generate the top 10 words from each coin\n",
    "def token_count(tokens, N=10):\n",
    "    \"\"\"Returns the top N tokens from the frequency count\"\"\"\n",
    "    return Counter(tokens).most_common(N)"
   ]
  },
  {
   "cell_type": "code",
   "execution_count": 70,
   "metadata": {},
   "outputs": [
    {
     "name": "stdout",
     "output_type": "stream",
     "text": [
      "Top 10 Bitcoin Words\n"
     ]
    },
    {
     "data": {
      "text/plain": [
       "[(\"['reuters', 'stafffile', 'photo', 'representations', 'virtual', 'currency', 'bitcoin', 'placed', 'us', 'dollar', 'banknote', 'illustration', 'taken', 'may', 'reutersdado', 'ruvicillustrationlondon', 'reuters', 'char']\",\n",
       "  3),\n",
       " (\"['london', 'reuters', 'inflation', 'hedge', 'currency', 'another', 'niche', 'asset', 'take', 'punt', 'bitcoin', 'headline', 'rekindling', 'debate', 'true', 'role', 'driver', 'behind', 'char']\",\n",
       "  3),\n",
       " (\"['file', 'photo', 'representation', 'virtual', 'currency', 'bitcoin', 'seen', 'front', 'stock', 'graph', 'illustration', 'taken', 'november', 'reutersdado', 'ruvicreuters', 'bitcoin', 'still', 'volatile', 'char']\",\n",
       "  3),\n",
       " (\"['new', 'york', 'reuters', 'bitcoin', 'investor', 'include', 'top', 'hedge', 'fund', 'money', 'manager', 'betting', 'virtual', 'currency', 'could', 'quintuple', 'high', 'yearfile', 'photo', 'b', 'char']\",\n",
       "  3),\n",
       " (\"['shanghaihong', 'kong', 'reuters', 'price', 'bitcoin', 'soar', 'chinese', 'cryptocurrency', 'asset', 'manager', 'looking', 'expand', 'place', 'hong', 'kong', 'singapore', 'skirting', 'intensified', 'crackdown', 'char']\",\n",
       "  3),\n",
       " (\"['file', 'photo', 'representation', 'ethereum', 'virtual', 'currency', 'standing', 'pc', 'motherboard', 'seen', 'illustration', 'picture', 'february', 'reutersdado', 'ruvicillustrationlondon', 'reuters', 'char']\",\n",
       "  2),\n",
       " (\"['reuters', 'staffa', 'representation', 'virtual', 'currency', 'bitcoin', 'seen', 'illustration', 'taken', 'november', 'reutersdado', 'ruvicillustrationnew', 'york', 'reuters', 'bitcoin', 'btcbtsp', 'rose', 'n', 'char']\",\n",
       "  2),\n",
       " (\"['london', 'reuters', 'bitcoin', 'passed', 'tuesday', 'touch', 'highest', 'level', 'year', 'investor', 'ascribing', 'gain', 'demand', 'perceived', 'inflationresistant', 'quality', 'expectation', 'char']\",\n",
       "  2),\n",
       " (\"['reuters', 'stafffile', 'photo', 'representations', 'virtual', 'currency', 'bitcoin', 'seen', 'picture', 'illustration', 'taken', 'taken', 'march', 'reutersdado', 'ruviclondon', 'reuters', 'bitcoin', 'wednesday', 'char']\",\n",
       "  2),\n",
       " (\"['reuters', 'stafffile', 'photo', 'representation', 'virtual', 'currency', 'bitcoin', 'seen', 'front', 'stock', 'graph', 'illustration', 'taken', 'november', 'reutersdado', 'ruvicillustrationfile', 'photo', 'char']\",\n",
       "  2)]"
      ]
     },
     "execution_count": 70,
     "metadata": {},
     "output_type": "execute_result"
    }
   ],
   "source": [
    "# Get the top 10 words for Bitcoin\n",
    "print(f'Top 10 Bitcoin Words')\n",
    "token_count(tokens_bitcoin, N=10)"
   ]
  },
  {
   "cell_type": "code",
   "execution_count": 71,
   "metadata": {},
   "outputs": [
    {
     "name": "stdout",
     "output_type": "stream",
     "text": [
      "Top 10 Ethereum Words\n"
     ]
    },
    {
     "data": {
      "text/plain": [
       "[(\"['file', 'photo', 'representation', 'ethereum', 'virtual', 'currency', 'standing', 'pc', 'motherboard', 'seen', 'illustration', 'picture', 'february', 'reutersdado', 'ruvicillustrationlondon', 'reuters', 'char']\",\n",
       "  2),\n",
       " (\"['new', 'york', 'reuters', 'institutional', 'investor', 'pumped', 'million', 'cryptocurrency', 'fund', 'product', 'week', 'ended', 'dec', 'second', 'highest', 'record', 'pushing', 'sector', 'asset', 'manag', 'char']\",\n",
       "  2),\n",
       " (\"['reuters', 'stafffile', 'photo', 'representation', 'virtual', 'currency', 'bitcoin', 'seen', 'front', 'stock', 'graph', 'illustration', 'taken', 'november', 'reutersdado', 'ruvicillustrationfile', 'photo', 'char']\",\n",
       "  2),\n",
       " (\"['reuters', 'staffa', 'representation', 'virtual', 'currency', 'bitcoin', 'seen', 'illustration', 'taken', 'november', 'reutersdado', 'ruvicillustrationnew', 'york', 'reuters', 'bitcoin', 'btcbtsp', 'rose', 'n', 'char']\",\n",
       "  2),\n",
       " (\"['london', 'reuters', 'bitcoin', 'passed', 'tuesday', 'touch', 'highest', 'level', 'year', 'investor', 'ascribing', 'gain', 'demand', 'perceived', 'inflationresistant', 'quality', 'expectation', 'char']\",\n",
       "  2),\n",
       " (\"['paypal', 'bringing', 'newlyannounced', 'support', 'cryptocurrency', 'us', 'account', 'first', 'announced', 'plan', 'open', 'cryptocurrency', 'trading', 'usbased', 'user', 'october', 'wa', 'char']\",\n",
       "  1),\n",
       " (\"['london', 'reuters', 'digital', 'currency', 'ethereum', 'xrp', 'soared', 'monday', 'gaining', 'momentum', 'bitcoin', 'powered', 'towards', 'alltime', 'highfile', 'photo', 'representation', 'ethereum', 'virtual', 'currency', 'char']\",\n",
       "  1),\n",
       " (\"['paypal', 'ha', 'launched', 'generosity', 'network', 'platform', 'allows', 'user', 'create', 'customized', 'personal', 'fundraising', 'campaign', 'yes', 'like', 'gofundmeyou', 'raise', 'maximum', 'char']\",\n",
       "  1),\n",
       " (\"['new', 'york', 'times', 'probably', 'publish', 'story', 'cryptocurrency', 'exchange', 'coinbase', 'reading', 'news', 'outlet', 'website', 'coinbase', 'ha', 'taken', 'highly', 'un', 'char']\",\n",
       "  1),\n",
       " (\"['decentralized', 'exchange', 'protocol', 'allow', 'crypto', 'trader', 'investor', 'trade', 'across', 'different', 'blockhains', 'development', 'significant', 'new', 'development', 'come', 'la', 'char']\",\n",
       "  1)]"
      ]
     },
     "execution_count": 71,
     "metadata": {},
     "output_type": "execute_result"
    }
   ],
   "source": [
    "# Get the top 10 words for Ethereum\n",
    "print(f'Top 10 Ethereum Words')\n",
    "token_count(tokens_ethereum, N=10)"
   ]
  },
  {
   "cell_type": "markdown",
   "metadata": {},
   "source": [
    "# Word Clouds\n",
    "\n",
    "In this section, you will generate word clouds for each coin to summarize the news for each coin"
   ]
  },
  {
   "cell_type": "code",
   "execution_count": 72,
   "metadata": {},
   "outputs": [],
   "source": [
    "from wordcloud import WordCloud\n",
    "import matplotlib.pyplot as plt\n",
    "plt.style.use('seaborn-whitegrid')\n",
    "import matplotlib as mpl\n",
    "mpl.rcParams['figure.figsize'] = [20.0, 10.0]\n",
    "from nltk.corpus import stopwords\n",
    "import nltk\n",
    "import re\n",
    "from nltk.tokenize import word_tokenize\n",
    "from nltk.stem import WordNetLemmatizer\n",
    "lemmatizer = WordNetLemmatizer()"
   ]
  },
  {
   "cell_type": "code",
   "execution_count": 73,
   "metadata": {},
   "outputs": [
    {
     "name": "stderr",
     "output_type": "stream",
     "text": [
      "[nltk_data] Downloading package wordnet to\n",
      "[nltk_data]     C:\\Users\\mischelle.massey\\AppData\\Roaming\\nltk_data...\n",
      "[nltk_data]   Package wordnet is already up-to-date!\n"
     ]
    },
    {
     "data": {
      "text/plain": [
       "True"
      ]
     },
     "execution_count": 73,
     "metadata": {},
     "output_type": "execute_result"
    }
   ],
   "source": [
    "import nltk\n",
    "nltk.download('wordnet')"
   ]
  },
  {
   "cell_type": "code",
   "execution_count": 79,
   "metadata": {},
   "outputs": [
    {
     "ename": "KeyError",
     "evalue": "'Articles'",
     "output_type": "error",
     "traceback": [
      "\u001b[1;31m---------------------------------------------------------------------------\u001b[0m",
      "\u001b[1;31mKeyError\u001b[0m                                  Traceback (most recent call last)",
      "\u001b[1;32m<ipython-input-79-d6335f8300ae>\u001b[0m in \u001b[0;36m<module>\u001b[1;34m\u001b[0m\n\u001b[0;32m      1\u001b[0m \u001b[1;31m# Generate the Bitcoin word cloud\u001b[0m\u001b[1;33m\u001b[0m\u001b[1;33m\u001b[0m\u001b[1;33m\u001b[0m\u001b[0m\n\u001b[1;32m----> 2\u001b[1;33m \u001b[0mcorpus\u001b[0m \u001b[1;33m=\u001b[0m \u001b[0mbitcoin_headlines\u001b[0m\u001b[1;33m[\u001b[0m\u001b[1;34m'Articles'\u001b[0m\u001b[1;33m]\u001b[0m\u001b[1;33m\u001b[0m\u001b[1;33m\u001b[0m\u001b[0m\n\u001b[0m\u001b[0;32m      3\u001b[0m \u001b[1;33m\u001b[0m\u001b[0m\n\u001b[0;32m      4\u001b[0m \u001b[1;32mdef\u001b[0m \u001b[0mprocess_text\u001b[0m\u001b[1;33m(\u001b[0m\u001b[0mdoc\u001b[0m\u001b[1;33m)\u001b[0m\u001b[1;33m:\u001b[0m\u001b[1;33m\u001b[0m\u001b[1;33m\u001b[0m\u001b[0m\n\u001b[0;32m      5\u001b[0m     \u001b[0msw\u001b[0m \u001b[1;33m=\u001b[0m \u001b[0mset\u001b[0m\u001b[1;33m(\u001b[0m\u001b[0mstopwords\u001b[0m\u001b[1;33m.\u001b[0m\u001b[0mwords\u001b[0m\u001b[1;33m(\u001b[0m\u001b[1;34m'english'\u001b[0m\u001b[1;33m)\u001b[0m\u001b[1;33m)\u001b[0m\u001b[1;33m\u001b[0m\u001b[1;33m\u001b[0m\u001b[0m\n",
      "\u001b[1;31mKeyError\u001b[0m: 'Articles'"
     ]
    }
   ],
   "source": [
    "# Generate the Bitcoin word cloud\n",
    "corpus = bitcoin_headlines['Articles']\n",
    "\n",
    "def process_text(doc):\n",
    "    sw = set(stopwords.words('english'))\n",
    "    regex = re.compile(\"[^a-zA-Z ]\")\n",
    "    re_clean = regex.sub('', doc)\n",
    "    words = word_tokenize(re_clean)\n",
    "    lem = [lemmatizer.lemmatize(word) for word in words]\n",
    "    output = [word.lower() for word in lem if word.lower() not in sw]\n",
    "    return ' '.join(output)\n",
    "\n",
    "big_string = ' '.join(corpus)\n",
    "input_text = process_text(big_string)\n",
    "\n",
    "wc = WordCloud().generate(input_text)\n",
    "plt.imshow(wc)"
   ]
  },
  {
   "cell_type": "code",
   "execution_count": null,
   "metadata": {},
   "outputs": [],
   "source": [
    "# Generate the Ethereum word cloud\n",
    "corpus = ethereum_articles[\"description\"]\n",
    "\n",
    "big_string = ' '.join(corpus)\n",
    "input_text = process_text(big_string)\n",
    "\n",
    "wc = WordCloud().generate(input_text)\n",
    "plt.imshow(wc)"
   ]
  },
  {
   "cell_type": "markdown",
   "metadata": {},
   "source": [
    "# Named Entity Recognition\n",
    "\n",
    "In this section, you will build a named entity recognition model for both coins and visualize the tags using SpaCy."
   ]
  },
  {
   "cell_type": "code",
   "execution_count": null,
   "metadata": {},
   "outputs": [],
   "source": [
    "import spacy\n",
    "from spacy import displacy"
   ]
  },
  {
   "cell_type": "code",
   "execution_count": null,
   "metadata": {},
   "outputs": [],
   "source": [
    "# Optional - download a language model for SpaCy\n",
    "!python -m spacy download en_core_web_sm"
   ]
  },
  {
   "cell_type": "code",
   "execution_count": null,
   "metadata": {},
   "outputs": [],
   "source": [
    "# Load the spaCy model\n",
    "nlp = spacy.load('en_core_web_sm')"
   ]
  },
  {
   "cell_type": "markdown",
   "metadata": {},
   "source": [
    "## Bitcoin NER"
   ]
  },
  {
   "cell_type": "code",
   "execution_count": null,
   "metadata": {},
   "outputs": [],
   "source": [
    "# Concatenate all of the bitcoin text together\n",
    "article = ethereum_articles[\"description\"].str.cat()\n",
    "article.head()"
   ]
  },
  {
   "cell_type": "code",
   "execution_count": null,
   "metadata": {},
   "outputs": [],
   "source": [
    "# Run the NER processor on all of the text\n",
    "doc = nlp(article)\n",
    "\n",
    "# Add a title to the document\n",
    "doc.user_data['title'] = 'Bitcoin NER'"
   ]
  },
  {
   "cell_type": "code",
   "execution_count": null,
   "metadata": {},
   "outputs": [],
   "source": [
    "# Render the visualization\n",
    "bitcoin_entities = displacy.render(doc, style='ent', jupyter=True)"
   ]
  },
  {
   "cell_type": "code",
   "execution_count": null,
   "metadata": {},
   "outputs": [],
   "source": [
    "# List all Entities\n",
    "for ent in doc_bitcoin.ents:\n",
    "    print(ent.text, ent.label_)"
   ]
  },
  {
   "cell_type": "markdown",
   "metadata": {},
   "source": [
    "---"
   ]
  },
  {
   "cell_type": "markdown",
   "metadata": {},
   "source": [
    "## Ethereum NER"
   ]
  },
  {
   "cell_type": "code",
   "execution_count": null,
   "metadata": {},
   "outputs": [],
   "source": [
    "# Concatenate all of the bitcoin text together\n",
    "text_strings_ethereum = ethereum_sentiments_df.Text.astype('str')\n",
    "text_ethereum = ' '.join(text_strings_ethereum)\n",
    "text_ethereum[:500]"
   ]
  },
  {
   "cell_type": "code",
   "execution_count": null,
   "metadata": {},
   "outputs": [],
   "source": [
    "# Run the NER processor on all of the text\n",
    "doc_ethereum = nlp(text_ethereum)\n",
    "\n",
    "# Add a title to the document\n",
    "doc_ethereum.user_data['title'] = 'Ethereum NER'"
   ]
  },
  {
   "cell_type": "code",
   "execution_count": null,
   "metadata": {},
   "outputs": [],
   "source": [
    "# Render the visualization\n",
    "displacy.render(doc_ethereum, style='ent', jupyter=True)"
   ]
  },
  {
   "cell_type": "code",
   "execution_count": null,
   "metadata": {},
   "outputs": [],
   "source": [
    "# List all Entities\n",
    "for ent in doc_ethereum.ents:\n",
    "    print(ent.text, ent.label_)"
   ]
  }
 ],
 "metadata": {
  "file_extension": ".py",
  "kernelspec": {
   "display_name": "Python 3",
   "language": "python",
   "name": "python3"
  },
  "language_info": {
   "codemirror_mode": {
    "name": "ipython",
    "version": 3
   },
   "file_extension": ".py",
   "mimetype": "text/x-python",
   "name": "python",
   "nbconvert_exporter": "python",
   "pygments_lexer": "ipython3",
   "version": "3.8.3"
  },
  "mimetype": "text/x-python",
  "name": "python",
  "npconvert_exporter": "python",
  "pygments_lexer": "ipython3",
  "version": 3
 },
 "nbformat": 4,
 "nbformat_minor": 4
}
